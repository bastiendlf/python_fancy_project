{
 "cells": [
  {
   "cell_type": "code",
   "execution_count": 1,
   "id": "initial_id",
   "metadata": {
    "collapsed": true,
    "ExecuteTime": {
     "end_time": "2023-09-30T22:04:08.038718800Z",
     "start_time": "2023-09-30T22:04:08.030710700Z"
    }
   },
   "outputs": [
    {
     "name": "stdout",
     "output_type": "stream",
     "text": [
      "hello this is a test\n"
     ]
    }
   ],
   "source": [
    "print(\"hello this is a test\")"
   ]
  },
  {
   "cell_type": "code",
   "execution_count": 2,
   "outputs": [],
   "source": [
    "toto = 5"
   ],
   "metadata": {
    "collapsed": false,
    "ExecuteTime": {
     "end_time": "2023-09-30T22:04:13.675184700Z",
     "start_time": "2023-09-30T22:04:13.674185400Z"
    }
   },
   "id": "12e5c5524865f588"
  },
  {
   "cell_type": "code",
   "execution_count": 3,
   "outputs": [
    {
     "data": {
      "text/plain": "{'__name__': '__main__',\n '__doc__': 'Automatically created module for IPython interactive environment',\n '__package__': None,\n '__loader__': None,\n '__spec__': None,\n '__builtin__': <module 'builtins' (built-in)>,\n '__builtins__': <module 'builtins' (built-in)>,\n '_ih': ['', 'print(\"hello this is a test\")', 'toto = 5', 'locals()'],\n '_oh': {},\n '_dh': [PosixPath('/home/bastien/python_projects/python_fancy_project/notebook')],\n 'In': ['', 'print(\"hello this is a test\")', 'toto = 5', 'locals()'],\n 'Out': {},\n 'get_ipython': <bound method InteractiveShell.get_ipython of <ipykernel.zmqshell.ZMQInteractiveShell object at 0x7f45895706d0>>,\n 'exit': <IPython.core.autocall.ZMQExitAutocall at 0x7f4589574e50>,\n 'quit': <IPython.core.autocall.ZMQExitAutocall at 0x7f4589574e50>,\n 'open': <function io.open(file, mode='r', buffering=-1, encoding=None, errors=None, newline=None, closefd=True, opener=None)>,\n '_': '',\n '__': '',\n '___': '',\n '__session__': 'notebook/test.ipynb',\n '_i': 'toto = 5',\n '_ii': 'print(\"hello this is a test\")',\n '_iii': '',\n '_i1': 'print(\"hello this is a test\")',\n 'sys': <module 'sys' (built-in)>,\n '_i2': 'toto = 5',\n 'toto': 5,\n '_i3': 'locals()'}"
     },
     "execution_count": 3,
     "metadata": {},
     "output_type": "execute_result"
    }
   ],
   "source": [
    "locals()"
   ],
   "metadata": {
    "collapsed": false,
    "ExecuteTime": {
     "end_time": "2023-09-30T22:07:32.314327900Z",
     "start_time": "2023-09-30T22:07:32.271709700Z"
    }
   },
   "id": "4c8f809187d13093"
  },
  {
   "cell_type": "code",
   "execution_count": 4,
   "outputs": [
    {
     "name": "stdout",
     "output_type": "stream",
     "text": [
      "Variable   Type      Data/Info\n",
      "------------------------------\n",
      "sys        module    <module 'sys' (built-in)>\n",
      "toto       int       5\n"
     ]
    }
   ],
   "source": [
    "%whos"
   ],
   "metadata": {
    "collapsed": false,
    "ExecuteTime": {
     "end_time": "2023-09-30T22:07:45.682286Z",
     "start_time": "2023-09-30T22:07:45.673781700Z"
    }
   },
   "id": "5bd67046f36eecf9"
  }
 ],
 "metadata": {
  "kernelspec": {
   "display_name": "Python 3",
   "language": "python",
   "name": "python3"
  },
  "language_info": {
   "codemirror_mode": {
    "name": "ipython",
    "version": 2
   },
   "file_extension": ".py",
   "mimetype": "text/x-python",
   "name": "python",
   "nbconvert_exporter": "python",
   "pygments_lexer": "ipython2",
   "version": "2.7.6"
  }
 },
 "nbformat": 4,
 "nbformat_minor": 5
}
